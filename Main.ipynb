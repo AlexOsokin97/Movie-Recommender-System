{
 "cells": [
  {
   "cell_type": "markdown",
   "metadata": {},
   "source": [
    "# Exploritory Data Analysis:\n",
    "\n",
    "**After I have done the basic data clean-up it was time to explore the data using different analytical plots. \n",
    "EDA is very important because it allows me to explore deeper into the dataset and find important quantities, features, and correlations. With the help of these findings not only would I be able to supply my future machine learning models with higher data quality but also, reinforce one's knowledge on the general performance of the product to which the data is related to**"
   ]
  },
  {
   "cell_type": "code",
   "execution_count": 1,
   "metadata": {},
   "outputs": [],
   "source": [
    "import pandas as pd\n",
    "import numpy as np \n",
    "import seaborn as sns\n",
    "import matplotlib.pyplot as plt\n",
    "pd.options.mode.chained_assignment = None  # default='warn'"
   ]
  },
  {
   "cell_type": "code",
   "execution_count": 2,
   "metadata": {},
   "outputs": [],
   "source": [
    "#importing the data\n",
    "movie_metadata = pd.read_csv(\"movies_md.csv\")\n",
    "ratings = pd.read_csv(\"ratings_nw.csv\")"
   ]
  },
  {
   "cell_type": "markdown",
   "metadata": {},
   "source": [
    "### checking if movieId values in ratings dataset are present in movies_metadata set"
   ]
  },
  {
   "cell_type": "code",
   "execution_count": 3,
   "metadata": {},
   "outputs": [
    {
     "data": {
      "text/plain": [
       "userId              0\n",
       "movieId             0\n",
       "rating              0\n",
       "timestamp           0\n",
       "genres       14587721\n",
       "id           14587721\n",
       "title        14587721\n",
       "dtype: int64"
      ]
     },
     "execution_count": 3,
     "metadata": {},
     "output_type": "execute_result"
    }
   ],
   "source": [
    "#creating a merged data set\n",
    "merged_data = ratings.merge(movie_metadata, left_on=\"movieId\", right_on='id', how=\"left\")\n",
    "\n",
    "#checking for amount of na values after the merge\n",
    "merged_data.isna().sum()"
   ]
  },
  {
   "cell_type": "markdown",
   "metadata": {},
   "source": [
    "**There are 14,587,721 million rows of missing values genres, id, titles which means that users had rated on movies which no longer exist in the movie_metadata. As a result, my recommender cannot base/recommened movies which do not exist anymore.**"
   ]
  },
  {
   "cell_type": "code",
   "execution_count": 4,
   "metadata": {},
   "outputs": [],
   "source": [
    "#dropping the rows with na values\n",
    "merged_data.dropna(inplace=True)\n",
    "\n",
    "#dropping the id column\n",
    "merged_data.drop(columns=['id'], inplace=True)"
   ]
  },
  {
   "cell_type": "code",
   "execution_count": 5,
   "metadata": {},
   "outputs": [
    {
     "name": "stdout",
     "output_type": "stream",
     "text": [
      "Total number of registered users who had voted atleast once: 265917\n",
      "Global average rating: 3.53\n",
      "Total amount of movies on the platform: 45430\n",
      "Total amount of movies voted on: 7565\n",
      "Maximum votes given by a user 3593\n"
     ]
    }
   ],
   "source": [
    "# Basic Analysis \n",
    "TR = merged_data.userId.unique().size # Total number of users who had voted \n",
    "C = merged_data.rating.mean() # Global average rating\n",
    "AM = movie_metadata.id.unique().size # Total amount of movies on the platform\n",
    "WAM = merged_data.movieId.unique().size # Amount of movies voted on \n",
    "MGR1 = merged_data.groupby('userId')['rating'].count().max() # Maximum votes given by a user\n",
    "\n",
    "print(\"Total number of registered users who had voted atleast once: {}\".format(TR))\n",
    "print(\"Global average rating: {:.2f}\".format(C))\n",
    "print(\"Total amount of movies on the platform: {}\".format(AM))\n",
    "print(\"Total amount of movies voted on: {}\".format(WAM))\n",
    "print(\"Maximum votes given by a user {}\".format(MGR1))"
   ]
  },
  {
   "cell_type": "code",
   "execution_count": 6,
   "metadata": {},
   "outputs": [
    {
     "data": {
      "image/png": "[encoded data removed]",
      "text/plain": [
       "<Figure size 1008x432 with 1 Axes>"
      ]
     },
     "metadata": {
      "needs_background": "light"
     },
     "output_type": "display_data"
    }
   ],
   "source": [
    "plt.figure(figsize=(14,6))\n",
    "merged_data.rating.value_counts().plot(kind='bar')\n",
    "plt.title(\"Number of Ratings Given\")\n",
    "plt.xlabel(\"Rating\")\n",
    "plt.ylabel(\"Number of Votes\")\n",
    "plt.show()"
   ]
  },
  {
   "cell_type": "markdown",
   "metadata": {},
   "source": [
    "**According to the barplot we can see that most viewers have given high ratings to movies. As a result, we can conclude that most movies on the platform are of high quality**"
   ]
  },
  {
   "cell_type": "code",
   "execution_count": 7,
   "metadata": {},
   "outputs": [
    {
     "data": {
      "text/html": [
       "<div>\n",
       "<style scoped>\n",
       "    .dataframe tbody tr th:only-of-type {\n",
       "        vertical-align: middle;\n",
       "    }\n",
       "\n",
       "    .dataframe tbody tr th {\n",
       "        vertical-align: top;\n",
       "    }\n",
       "\n",
       "    .dataframe thead th {\n",
       "        text-align: right;\n",
       "    }\n",
       "</style>\n",
       "<table border=\"1\" class=\"dataframe\">\n",
       "  <thead>\n",
       "    <tr style=\"text-align: right;\">\n",
       "      <th></th>\n",
       "      <th>title</th>\n",
       "      <th>rating</th>\n",
       "      <th>number_of_votes</th>\n",
       "    </tr>\n",
       "  </thead>\n",
       "  <tbody>\n",
       "    <tr>\n",
       "      <th>0</th>\n",
       "      <td>!Women Art Revolution</td>\n",
       "      <td>2.802945</td>\n",
       "      <td>883</td>\n",
       "    </tr>\n",
       "    <tr>\n",
       "      <th>1</th>\n",
       "      <td>$1,000 on the Black</td>\n",
       "      <td>3.000000</td>\n",
       "      <td>1</td>\n",
       "    </tr>\n",
       "    <tr>\n",
       "      <th>2</th>\n",
       "      <td>$5 a Day</td>\n",
       "      <td>2.246795</td>\n",
       "      <td>156</td>\n",
       "    </tr>\n",
       "    <tr>\n",
       "      <th>3</th>\n",
       "      <td>'Gator Bait</td>\n",
       "      <td>3.443590</td>\n",
       "      <td>195</td>\n",
       "    </tr>\n",
       "    <tr>\n",
       "      <th>4</th>\n",
       "      <td>'R Xmas</td>\n",
       "      <td>2.627907</td>\n",
       "      <td>86</td>\n",
       "    </tr>\n",
       "  </tbody>\n",
       "</table>\n",
       "</div>"
      ],
      "text/plain": [
       "                   title    rating  number_of_votes\n",
       "0  !Women Art Revolution  2.802945              883\n",
       "1    $1,000 on the Black  3.000000                1\n",
       "2               $5 a Day  2.246795              156\n",
       "3            'Gator Bait  3.443590              195\n",
       "4                'R Xmas  2.627907               86"
      ]
     },
     "execution_count": 7,
     "metadata": {},
     "output_type": "execute_result"
    }
   ],
   "source": [
    "# creating a new dataframe which consists of movie titles, average rating for the movie and total number of votes for the movie\n",
    "ratings_avg_count = pd.DataFrame(merged_data.groupby('title')['rating'].mean())\n",
    "ratings_avg_count['number_of_votes'] = pd.DataFrame(merged_data.groupby('title')['rating'].count())\n",
    "ratings_avg_count.reset_index(inplace=True)\n",
    "ratings_avg_count.head()"
   ]
  },
  {
   "cell_type": "code",
   "execution_count": 8,
   "metadata": {},
   "outputs": [
    {
     "data": {
      "image/png": "[encoded data removed]",
      "text/plain": [
       "<Figure size 1080x576 with 1 Axes>"
      ]
     },
     "metadata": {
      "needs_background": "light"
     },
     "output_type": "display_data"
    }
   ],
   "source": [
    "#checking rating distribution\n",
    "plt.figure(figsize=(15,8))\n",
    "plt.rcParams['patch.force_edgecolor'] = True\n",
    "sns.histplot(data=ratings_avg_count, x=\"rating\",bins=50, kde=True)\n",
    "plt.title(\"Distribution of rating\")\n",
    "plt.show()"
   ]
  },
  {
   "cell_type": "markdown",
   "metadata": {},
   "source": [
    "**According to the graph the data has a weak normal distribution with the mean around 3.5 due to the presence of outliers in the data.**"
   ]
  },
  {
   "cell_type": "code",
   "execution_count": 9,
   "metadata": {},
   "outputs": [
    {
     "data": {
      "image/png": "[encoded data removed]",
      "text/plain": [
       "<Figure size 864x576 with 1 Axes>"
      ]
     },
     "metadata": {
      "needs_background": "light"
     },
     "output_type": "display_data"
    }
   ],
   "source": [
    "plt.figure(figsize=(12,8))\n",
    "sns.regplot(x='rating', y='number_of_votes',data=ratings_avg_count, line_kws={\"color\":\"r\",\"alpha\":0.7,\"lw\":5})\n",
    "plt.title(\"votes and rating correlation\")\n",
    "plt.xlabel(\"average rating\")\n",
    "plt.show()"
   ]
  },
  {
   "cell_type": "markdown",
   "metadata": {},
   "source": [
    "**There is a slight positive correlation between the average rating of a movie and the number of votes. According to the graph:<br> 1. Movies with higher average ratings actually have more number of ratings.**<br>\n",
    "**2. If a movie gets more number of votes, the average rating would increase slightly**"
   ]
  },
  {
   "cell_type": "code",
   "execution_count": 10,
   "metadata": {},
   "outputs": [
    {
     "data": {
      "image/png": "[encoded data removed]",
      "text/plain": [
       "<Figure size 1152x432 with 1 Axes>"
      ]
     },
     "metadata": {
      "needs_background": "light"
     },
     "output_type": "display_data"
    }
   ],
   "source": [
    "plt.figure(figsize=(16,6))\n",
    "plt.rcParams['patch.force_edgecolor'] = True\n",
    "ratings_avg_count['number_of_votes'].hist(bins=50)\n",
    "plt.title(\"Number of votes distribution\")\n",
    "plt.xlabel(\"Number of votes\")\n",
    "plt.ylabel(\"Number of movies\")\n",
    "plt.show()"
   ]
  },
  {
   "cell_type": "markdown",
   "metadata": {},
   "source": [
    "**Most of the movies on the platform have around 50 votes**"
   ]
  },
  {
   "cell_type": "markdown",
   "metadata": {},
   "source": [
    "## Creating a Top 10 Movie List <a id='metric'></a>\n",
    "\n",
    "**In order to create a top 10 movie list I will use IMDb's formula for computing the movie's weighted rate and use it as the movie's score.** <br>\n",
    "\n",
    "### Why IMDb's Formula?\n",
    "\n",
    "**IMDb's formula is built on a concept of \"naive individual\". Which means that it treats all users as inexperienced \n",
    "\n",
    "\n",
    "### The Formula:\n",
    "\n",
    "**WR = (v/(v+m)) * R + (m/(v+m)) * C** \n",
    "\n",
    "*Where:*\n",
    "\n",
    "**R** = Average for the movie as a number from 0.5 - 5<br>\n",
    "**v** = Number of votes for the movie<br>\n",
    "**m** = Minimum votes required to be listed in the top 250 (according to imdb: 25,000)<br>\n",
    "**C** = The mean vote across the whole report \n",
    "\n",
    "### Finding  m for MovieLens platform:\n",
    "\n",
    "**I cannot use the m value of IMDb because:**<br>\n",
    "1. It is a threshold for top 250 movies. <br>\n",
    "2. IMDb has 83 million users while while the platform has 270,000.<br>\n",
    "\n",
    "**As a result, I need to scale it to be suitable for the amount of users which are on the MovieLens platform.**\n",
    "\n",
    "**1.** Find the ratio between total number of users on IMDb (Tu1) and (m1): 83,000,000 : 25,000 --> [3320 : 1].<br> \n",
    "**2.** Find the ratio between total number of users on the platform (Tu2) and (m2) : m2 : 270,896. <br>\n",
    "**3.** Compare both ratios and solve the equation for m2: 3320 * m2 = 270,896 * 1 --> **m2 = 82**. <br>\n",
    "\n",
    "**Now that I have the minimum votes required to be listed in the top 250 in the MovieLens platform I can calculate the weighted rate for each movie, create the a list of top 250 by filtering all the movies which have less than 82 votes and lastly from that list creating another list of Top 10 movies**\n",
    "\n",
    "### Calculation"
   ]
  },
  {
   "cell_type": "code",
   "execution_count": 11,
   "metadata": {},
   "outputs": [],
   "source": [
    "#creating a variable to store the minimum number of votes needed to be in the top 250 \n",
    "m = 82\n",
    "\n",
    "#I filter the movies with less than 82 votes\n",
    "filtered_movies = ratings_avg_count.loc[ratings_avg_count['number_of_votes'] >= m]\n",
    "\n",
    "#creating a function that will compute the rating for each movie\n",
    "def weighted_rate(data, m=m, C=C):\n",
    "    R = data['rating']\n",
    "    v = data['number_of_votes']\n",
    "    wr =  (v/(v+m) * R) + (m/(m+v) * C)\n",
    "    return wr\n",
    "\n",
    "#creating a new column which will store the weighted avrage rating of the movie\n",
    "filtered_movies['weighted_rate'] = filtered_movies.apply(weighted_rate, axis=1)\n",
    "\n",
    "#sorting the values from Highest - Lowest\n",
    "filtered_movies = filtered_movies.sort_values('weighted_rate', ascending=False)\n",
    "\n",
    "#Getting the top 10 movies\n",
    "top10 = filtered_movies.head(10) "
   ]
  },
  {
   "cell_type": "markdown",
   "metadata": {},
   "source": [
    "### Top 10 Movies with adjusted IMDb metric:"
   ]
  },
  {
   "cell_type": "code",
   "execution_count": 12,
   "metadata": {},
   "outputs": [
    {
     "data": {
      "text/html": [
       "<div>\n",
       "<style scoped>\n",
       "    .dataframe tbody tr th:only-of-type {\n",
       "        vertical-align: middle;\n",
       "    }\n",
       "\n",
       "    .dataframe tbody tr th {\n",
       "        vertical-align: top;\n",
       "    }\n",
       "\n",
       "    .dataframe thead th {\n",
       "        text-align: right;\n",
       "    }\n",
       "</style>\n",
       "<table border=\"1\" class=\"dataframe\">\n",
       "  <thead>\n",
       "    <tr style=\"text-align: right;\">\n",
       "      <th></th>\n",
       "      <th>title</th>\n",
       "      <th>rating</th>\n",
       "      <th>number_of_votes</th>\n",
       "      <th>weighted_rate</th>\n",
       "    </tr>\n",
       "  </thead>\n",
       "  <tbody>\n",
       "    <tr>\n",
       "      <th>6107</th>\n",
       "      <td>The Million Dollar Hotel</td>\n",
       "      <td>4.429015</td>\n",
       "      <td>91082</td>\n",
       "      <td>4.428208</td>\n",
       "    </tr>\n",
       "    <tr>\n",
       "      <th>4825</th>\n",
       "      <td>Sleepless in Seattle</td>\n",
       "      <td>4.339811</td>\n",
       "      <td>57070</td>\n",
       "      <td>4.338653</td>\n",
       "    </tr>\n",
       "    <tr>\n",
       "      <th>3930</th>\n",
       "      <td>Once Were Warriors</td>\n",
       "      <td>4.266531</td>\n",
       "      <td>67662</td>\n",
       "      <td>4.265642</td>\n",
       "    </tr>\n",
       "    <tr>\n",
       "      <th>2336</th>\n",
       "      <td>Hard Target</td>\n",
       "      <td>4.255074</td>\n",
       "      <td>13994</td>\n",
       "      <td>4.250866</td>\n",
       "    </tr>\n",
       "    <tr>\n",
       "      <th>3160</th>\n",
       "      <td>License to Wed</td>\n",
       "      <td>4.230716</td>\n",
       "      <td>60024</td>\n",
       "      <td>4.229764</td>\n",
       "    </tr>\n",
       "    <tr>\n",
       "      <th>3669</th>\n",
       "      <td>Murder She Said</td>\n",
       "      <td>4.213030</td>\n",
       "      <td>28280</td>\n",
       "      <td>4.211063</td>\n",
       "    </tr>\n",
       "    <tr>\n",
       "      <th>1321</th>\n",
       "      <td>Cousin, Cousine</td>\n",
       "      <td>4.202589</td>\n",
       "      <td>20855</td>\n",
       "      <td>4.199966</td>\n",
       "    </tr>\n",
       "    <tr>\n",
       "      <th>1451</th>\n",
       "      <td>Dead Man</td>\n",
       "      <td>4.200820</td>\n",
       "      <td>7930</td>\n",
       "      <td>4.193982</td>\n",
       "    </tr>\n",
       "    <tr>\n",
       "      <th>244</th>\n",
       "      <td>A Woman, a Gun and a Noodle Shop</td>\n",
       "      <td>4.199039</td>\n",
       "      <td>8948</td>\n",
       "      <td>4.192988</td>\n",
       "    </tr>\n",
       "    <tr>\n",
       "      <th>6541</th>\n",
       "      <td>The Thomas Crown Affair</td>\n",
       "      <td>4.189107</td>\n",
       "      <td>44324</td>\n",
       "      <td>4.187895</td>\n",
       "    </tr>\n",
       "  </tbody>\n",
       "</table>\n",
       "</div>"
      ],
      "text/plain": [
       "                                 title    rating  number_of_votes  \\\n",
       "6107          The Million Dollar Hotel  4.429015            91082   \n",
       "4825              Sleepless in Seattle  4.339811            57070   \n",
       "3930                Once Were Warriors  4.266531            67662   \n",
       "2336                       Hard Target  4.255074            13994   \n",
       "3160                    License to Wed  4.230716            60024   \n",
       "3669                   Murder She Said  4.213030            28280   \n",
       "1321                   Cousin, Cousine  4.202589            20855   \n",
       "1451                          Dead Man  4.200820             7930   \n",
       "244   A Woman, a Gun and a Noodle Shop  4.199039             8948   \n",
       "6541           The Thomas Crown Affair  4.189107            44324   \n",
       "\n",
       "      weighted_rate  \n",
       "6107       4.428208  \n",
       "4825       4.338653  \n",
       "3930       4.265642  \n",
       "2336       4.250866  \n",
       "3160       4.229764  \n",
       "3669       4.211063  \n",
       "1321       4.199966  \n",
       "1451       4.193982  \n",
       "244        4.192988  \n",
       "6541       4.187895  "
      ]
     },
     "execution_count": 12,
     "metadata": {},
     "output_type": "execute_result"
    }
   ],
   "source": [
    "top10"
   ]
  },
  {
   "cell_type": "markdown",
   "metadata": {},
   "source": [
    "# Machine Learning Model Application Pipline:\n",
    "\n",
    "## 1. Approach:\n",
    "\n",
    "*Available Data & Features:* **movie_metadata (title, movieId), ratings (userId, movieId, rating, timestamp)**<br>\n",
    "*Used Features:* **title,rating, userId**<br>\n",
    "*Libraries:* **os, scikit surprise, sklearn**<br>\n",
    "\n",
    "**I will be building a Recommender System using Collaborative Filtering. I use Collaborative Filtering because I do not have any available features about the users except their rating and timestamp (which only captures the date of when the vote was placed by a user) and about the movies except their title.**"
   ]
  },
  {
   "cell_type": "code",
   "execution_count": 13,
   "metadata": {},
   "outputs": [],
   "source": [
    "import os\n",
    "from surprise import BaselineOnly, Dataset, Reader, SVD, SVDpp\n",
    "from surprise.model_selection import cross_validate, GridSearchCV, train_test_split\n",
    "from sklearn.preprocessing import RobustScaler\n",
    "from sklearn.model_selection import train_test_split\n",
    "\n",
    "#loading the data using surprise\n",
    "#file_path = os.path.expanduser('data.csv')\n",
    "#reader = Reader(line_format='user item rating timestamp', sep='\\t')\n",
    "#data = Dataset.load_from_file(file_path, reader=reader)"
   ]
  },
  {
   "cell_type": "markdown",
   "metadata": {},
   "source": [
    "### Sparsity Calculation:\n",
    "\n",
    "**I will calculate the sparsity of the data with the following formula:**<br>\n",
    "\n",
    "*S = 1 - (total_votes(data) / total_#_elements(data))*<br>\n",
    "\n",
    "**Where:** <br>\n",
    "\n",
    "**total_votes(data)** = total number of votes given by the users<br>\n",
    "**total_#_elements** = total number of users * total number of movies<br>\n",
    "\n",
    "**I am calculating the sparisty of the data in order to determine which type of CF approach would be the best fit: Memory-Based, Model-Based, Hybrid-Based**"
   ]
  },
  {
   "cell_type": "code",
   "execution_count": 14,
   "metadata": {},
   "outputs": [
    {
     "name": "stdout",
     "output_type": "stream",
     "text": [
      "99.9%\n"
     ]
    }
   ],
   "source": [
    "#calculating the sparsity of the dataset\n",
    "s = 1 - (merged_data.groupby('userId')['movieId'].count().sum()/(movie_metadata.id.unique().size * merged_data.userId.unique().size))\n",
    "print(\"{:.1f}%\".format(s*100))"
   ]
  },
  {
   "cell_type": "markdown",
   "metadata": {},
   "source": [
    "**I will use the Model-Based approach because it has better performance with data that has high sparsity.**"
   ]
  },
  {
   "cell_type": "markdown",
   "metadata": {},
   "source": [
    "## 2. Data Preprocessing\n",
    "\n",
    "**Before applying any machine learning model I will do the following steps:**\n",
    "\n",
    "**1. Split the data into training and testing set.**<br>\n",
    "**2. Standardize the data.**<br>\n",
    "\n",
    "**I split the data to train and test sets before applying standardization in order to avoid data leakage. I apply standardization the data in-order to reduce the influence of outliers and help the models to converge faster.**<br>\n",
    "\n",
    "**In order to split the data im going to use sklearn's. Im using sklearn's method because Surprise library does not have any scaling methods. As a result, I'll use sklearn's train_test_split to apply the scaling and then I'll use Surprise's Reader method to assign the scaled train and test sets to 2 variables which can be processed by the surprise library to perform training and testing.**<br>\n",
    "\n",
    "#### Pipline:\n",
    "**1. Split the data to training and testing datasets with sklearn's function (90% training, 10% testing)**<br>\n",
    "\n",
    "**2. Apply the scaler on the training set using .fit_transform method and .transform on the test set (this way I avoid data leakage)**<br>\n",
    "\n",
    "**3. Create 2 variables which processes the 2 sets with Surprise's reading method.**\n",
    "\n",
    "#### The Split Ratio:\n",
    "\n",
    "**Im splitting with a ratio of 90%:10% becuase when it comes to recommendation systems the real testing occurs in the real world  where you measure user feedback, clicks, profits, etc. For this reason, I would prefer that my model would use most of the data for training to generalize better. Hence, boosting the performance.**"
   ]
  },
  {
   "cell_type": "code",
   "execution_count": 15,
   "metadata": {},
   "outputs": [],
   "source": [
    "#from the dataset using only 'userId', 'movieId', 'rating', 'timestamp' columns\n",
    "train, test = train_test_split(merged_data[['userId', 'movieId', 'rating']]\n",
    "                               , test_size=0.1, train_size=0.9, random_state=12)"
   ]
  },
  {
   "cell_type": "code",
   "execution_count": 16,
   "metadata": {},
   "outputs": [],
   "source": [
    "#creating a scaler\n",
    "rob_scaler = RobustScaler(quantile_range=(1.0, 5.0))"
   ]
  },
  {
   "cell_type": "code",
   "execution_count": 17,
   "metadata": {},
   "outputs": [],
   "source": [
    "#scaling\n",
    "scaled_ratings_train = rob_scaler.fit_transform(train.rating.values.reshape(-1,1))\n",
    "scaled_ratings_test = rob_scaler.transform(test.rating.values.reshape(-1,1))"
   ]
  },
  {
   "cell_type": "code",
   "execution_count": 18,
   "metadata": {},
   "outputs": [],
   "source": [
    "#assigning the new values to the training and test respectively\n",
    "train.rating = scaled_ratings_train\n",
    "test.rating = scaled_ratings_test"
   ]
  },
  {
   "cell_type": "code",
   "execution_count": 19,
   "metadata": {},
   "outputs": [],
   "source": [
    "#creating reader instance\n",
    "reader = Reader()\n",
    "\n",
    "#using Surprise's Reader to process the scaled train and test sets\n",
    "s_train = Dataset.load_from_df(train, reader)\n",
    "s_test = Dataset.load_from_df(test, reader)"
   ]
  },
  {
   "cell_type": "markdown",
   "metadata": {},
   "source": [
    "## 3. Model & Algortihm:\n",
    "\n",
    "**I will be using Matrix Factorization with Singular Vector Decomposition predictive algorithms.**\n",
    "\n",
    "### Why Matrix Factorization?\n",
    "\n",
    "**Matrix Factorization is a dimensionality reduction type machine learning model which deconstructs a given matrix A(M x N) into B(M x k) & C(k x M) matrices where k is the number of latent features. Latent features are features that try to \"personalized\" each user and the item he has voted for by:**<br>\n",
    "\n",
    "*1. Predicting the rating of user(i,j) by summing up dot product of user(i) k(i,n) features with the corresponding item(j) k(j, n)* <br>\n",
    "*2. Calculating the error e = Rr - Rp where: Rr - real rating, Rp - predicted rating*<br>\n",
    "*3. Updating the values of k features while trying to minimize the error using a specific algorithm*\n",
    "\n",
    "### Why SVD?\n",
    "\n",
    "**1.SVD is a prize winning algorithm designed by Simon Funk during the Netflix Prize.**<br>\n",
    "\n",
    "**2.It performes Matrix Decomposition by decomposing the A(u,i) to 3 matrices: B(u,k) S(k,k) C(k,i). With the help of these   metrices the algorithm is able to discover \"concepts\" in high sparsity data.**<br>\n",
    "\n",
    "**3.It allows you to choose the degree of personalization by tuning the number of k latent features (a model with 1 k feature may act as a \"most popular\" or \"top popular\" recommender or as a complex personalized recommender which recommends movies to each user by their personalizations).**\n",
    "\n",
    "### Pipleline:\n",
    "\n",
    "**1. Initiate a choosen algorithm with the default parameters (to check if a fast and easy approach shows good results).**<br>\n",
    "\n",
    "**2. Applying cross validation in order to see the performance of the algorithm on different folds (sometimes an a algorithm accidentaly achieve good performance on the first try).**<br>\n",
    "\n",
    "**3. Optional: apply grid search to tune the algorithm's hyper parameters in order to improve the performance.** <br>\n",
    "\n",
    "**4. Test on unseen data testing_set.** <br>\n",
    "\n",
    "**5. If test results are sufficient, apply the model into production. Else: repeat steps 3 - 4.**\n",
    "\n",
    "### Measurment & Evaluation:\n",
    "\n",
    "**When fitting on the training data I am using Root Mean Squared Error in order to put more weight into penalizing larger errors. A recommendation system should be able to recommened relevant movies to users on with a high precision. As a result, it should be more sensitive to error.**<br>\n",
    "**Finally, I will evaluate the predictions on the the test set using precision at 10 in order to check how many movies out of the 10 recommended were relevant.** "
   ]
  },
  {
   "cell_type": "markdown",
   "metadata": {},
   "source": [
    "**For the purpose of this excersie I'll apply the algorithm in its' default form**"
   ]
  },
  {
   "cell_type": "code",
   "execution_count": 20,
   "metadata": {},
   "outputs": [],
   "source": [
    "#using the SVD() with the default parameters\n",
    "algo = SVD()"
   ]
  },
  {
   "cell_type": "code",
   "execution_count": 23,
   "metadata": {},
   "outputs": [
    {
     "name": "stdout",
     "output_type": "stream",
     "text": [
      "Evaluating RMSE of algorithm SVD on 3 split(s).\n",
      "\n",
      "                  Fold 1  Fold 2  Fold 3  Mean    Std     \n",
      "RMSE (testset)    1.8139  1.8147  1.8144  1.8143  0.0003  \n",
      "Fit time          313.47  315.99  317.92  315.79  1.82    \n",
      "Test time         33.55   33.53   30.60   32.56   1.38    \n"
     ]
    },
    {
     "data": {
      "text/plain": [
       "{'test_rmse': array([1.81392672, 1.81471682, 1.81437638]),\n",
       " 'fit_time': (313.4651653766632, 315.99038791656494, 317.9201557636261),\n",
       " 'test_time': (33.54809331893921, 33.52841305732727, 30.60152006149292)}"
      ]
     },
     "execution_count": 23,
     "metadata": {},
     "output_type": "execute_result"
    }
   ],
   "source": [
    "#applying cross validation\n",
    "cross_validate(algo, s_train, measures=['RMSE'], cv=3, verbose=True)"
   ]
  },
  {
   "cell_type": "markdown",
   "metadata": {},
   "source": [
    "**I decide not to apply grid search because the avgerage error is sufficient enough for me**"
   ]
  },
  {
   "cell_type": "code",
   "execution_count": 21,
   "metadata": {},
   "outputs": [],
   "source": [
    "#Surprise library function for precision and recall\n",
    "def precision_recall_at_k(predictions, k=10, threshold=3.5):\n",
    "    \"\"\"Return precision and recall at k metrics for each user\"\"\"\n",
    "\n",
    "    # First map the predictions to each user.\n",
    "    user_est_true = defaultdict(list)\n",
    "    for uid, _, true_r, est, _ in predictions:\n",
    "        user_est_true[uid].append((est, true_r))\n",
    "\n",
    "    precisions = dict()\n",
    "    recalls = dict()\n",
    "    for uid, user_ratings in user_est_true.items():\n",
    "\n",
    "        # Sort user ratings by estimated value\n",
    "        user_ratings.sort(key=lambda x: x[0], reverse=True)\n",
    "\n",
    "        # Number of relevant items\n",
    "        n_rel = sum((true_r >= threshold) for (_, true_r) in user_ratings)\n",
    "\n",
    "        # Number of recommended items in top k\n",
    "        n_rec_k = sum((est >= threshold) for (est, _) in user_ratings[:k])\n",
    "\n",
    "        # Number of relevant and recommended items in top k\n",
    "        n_rel_and_rec_k = sum(((true_r >= threshold) and (est >= threshold))\n",
    "                              for (est, true_r) in user_ratings[:k])\n",
    "\n",
    "        # Precision@K: Proportion of recommended items that are relevant\n",
    "        # When n_rec_k is 0, Precision is undefined. We here set it to 0.\n",
    "\n",
    "        precisions[uid] = n_rel_and_rec_k / n_rec_k if n_rec_k != 0 else 0\n",
    "\n",
    "        # Recall@K: Proportion of relevant items that are recommended\n",
    "        # When n_rel is 0, Recall is undefined. We here set it to 0.\n",
    "\n",
    "        recalls[uid] = n_rel_and_rec_k / n_rel if n_rel != 0 else 0\n",
    "\n",
    "    return precisions, recalls"
   ]
  },
  {
   "cell_type": "code",
   "execution_count": 22,
   "metadata": {},
   "outputs": [
    {
     "ename": "AttributeError",
     "evalue": "'DatasetAutoFolds' object has no attribute 'global_mean'",
     "output_type": "error",
     "traceback": [
      "\u001b[1;31m---------------------------------------------------------------------------\u001b[0m",
      "\u001b[1;31mAttributeError\u001b[0m                            Traceback (most recent call last)",
      "\u001b[1;32m<ipython-input-22-f0a62103a845>\u001b[0m in \u001b[0;36m<module>\u001b[1;34m\u001b[0m\n\u001b[0;32m      1\u001b[0m \u001b[1;31m#fitting the algorithm on the training set\u001b[0m\u001b[1;33m\u001b[0m\u001b[1;33m\u001b[0m\u001b[1;33m\u001b[0m\u001b[0m\n\u001b[1;32m----> 2\u001b[1;33m \u001b[0malgo\u001b[0m\u001b[1;33m.\u001b[0m\u001b[0mfit\u001b[0m\u001b[1;33m(\u001b[0m\u001b[0ms_train\u001b[0m\u001b[1;33m)\u001b[0m\u001b[1;33m\u001b[0m\u001b[1;33m\u001b[0m\u001b[0m\n\u001b[0m\u001b[0;32m      3\u001b[0m \u001b[1;33m\u001b[0m\u001b[0m\n\u001b[0;32m      4\u001b[0m \u001b[1;31m#testing on the test set\u001b[0m\u001b[1;33m\u001b[0m\u001b[1;33m\u001b[0m\u001b[1;33m\u001b[0m\u001b[0m\n\u001b[0;32m      5\u001b[0m \u001b[0mpreds\u001b[0m \u001b[1;33m=\u001b[0m \u001b[0malgo\u001b[0m\u001b[1;33m.\u001b[0m\u001b[0mtest\u001b[0m\u001b[1;33m(\u001b[0m\u001b[0ms_test\u001b[0m\u001b[1;33m)\u001b[0m\u001b[1;33m\u001b[0m\u001b[1;33m\u001b[0m\u001b[0m\n",
      "\u001b[1;32m~\\anaconda3\\lib\\site-packages\\surprise\\prediction_algorithms\\matrix_factorization.pyx\u001b[0m in \u001b[0;36msurprise.prediction_algorithms.matrix_factorization.SVD.fit\u001b[1;34m()\u001b[0m\n",
      "\u001b[1;32m~\\anaconda3\\lib\\site-packages\\surprise\\prediction_algorithms\\matrix_factorization.pyx\u001b[0m in \u001b[0;36msurprise.prediction_algorithms.matrix_factorization.SVD.sgd\u001b[1;34m()\u001b[0m\n",
      "\u001b[1;31mAttributeError\u001b[0m: 'DatasetAutoFolds' object has no attribute 'global_mean'"
     ]
    }
   ],
   "source": [
    "#fitting the algorithm on the training set\n",
    "algo.fit(s_train)\n",
    "\n",
    "#testing on the test set\n",
    "preds = algo.test(s_test)"
   ]
  },
  {
   "cell_type": "code",
   "execution_count": null,
   "metadata": {},
   "outputs": [],
   "source": []
  },
  {
   "cell_type": "code",
   "execution_count": null,
   "metadata": {},
   "outputs": [],
   "source": [
    "precisions, recalls = precision_recall_at_k(predictions, k=10, threshold=3)\n",
    "\n",
    "print(sum(prec for prec in precisions.values()) / len(precisions))"
   ]
  },
  {
   "cell_type": "markdown",
   "metadata": {},
   "source": [
    "# Conclusion:\n",
    "\n",
    "*In this project I have used 2 models: IMDb Formula & Matrix Factorization using Singular Value Decomposition.*<br>\n",
    "\n",
    "### Model Comparison\n",
    "\n",
    "*In order to compare between the models I used the following metrics: User Experience, Sales and Revenue, Clicks Through Rates.*<br>\n",
    "\n",
    "**User Experience:** *When it comes to user based platforms, user experience is very important if the business wants to keep generating profits. In order to inhence user experience the platform needs find ways to insure that users spend more time on the platform. How can user's time turn into profit? Exposure to Ads, Exposure to deals and items, Continuation of subscription, etc. In movie platforms we can inhence user experience by constant exposure to new content that he might be intrested in.*<br>\n",
    "\n",
    "**Sales:** *By sales it can mean anything from selling to providing a service. The top goal of any business in the end is to generate more income through the service/s they are providing. If more people use the service the more income the business will generate*.<br> \n",
    "\n",
    "**Clicks Through Rates:** *How many clicks were given on recommended content? More click -> The recommendations were more relevant to the user -> User Experience Increased -> Sales Increase.*\n",
    "\n",
    "*When comparing both of my models to those metrices it is clearer that Machine Learning based recommendation system most of the time would be more profitable than a Static based recommendation model. This is because Machine Learning models would aim to generate recommendations which appeal more to each individual user's intrests. As a result, user experience for each user would increase which in turn increase sales.*\n",
    "\n",
    "*Static Models on the other hand generate recommendations without take the individual user into consideration. There might be some occasions where a static model generates enough click which turn into a profit but, most of the time it is not as profitable as a model based recommender.*\n",
    "\n",
    "### Pros & Cons:\n",
    "\n",
    "#### IMDb Formula Model:\n",
    "\n",
    "##### pros:\n",
    "\n",
    "1. Can show promising results on new developing sites.\n",
    "2. Not computationaly intensive.\n",
    "3. Possible to apply based on movie features (Top 10 Comedies, Top 250 Action, etc..)\n",
    "4. Can be used as a recommender system to new users\n",
    "\n",
    "##### cons:\n",
    "\n",
    "1. Provides a generalized information chart to all the users regardless of user preferences, features or if the user had already seen the movie/s. \n",
    "2. A static model is only accurate for the data which it was deployed on. In the real world this is a big drawback since there is a constant flow and change of the data the databases and for each new observations this model will need to be constantly updated in order to maintain high accuracy.\n",
    "3. Not profitable in the long run.\n",
    "\n",
    "#### Matrix Factorization SVD:\n",
    "\n",
    "##### pros:\n",
    "\n",
    "1. Shows better performance on long term recommender systems.\n",
    "2. It only needs a feedback (small sample) data in order to get start with. \n",
    "3. It can icrease user expierence by helping them discovering new intersets.\n",
    "4. It does not need to be deployed from zero each time there are new data points.\n",
    " \n",
    "##### cons:\n",
    "\n",
    "1. Infeasible on large scale application where the result is wanted quickly.\n",
    "2. It is purely collaborative, meaning that often helpful content-based filtering like age of customers or favorite genres are left out\n",
    "3. Cold-start - when data is scarce in the beginning the model's guess is about as good as a random guess\n",
    "\n",
    "#### Should I invest in one of the models?\n",
    "\n",
    "*While taking the comparison metrices and the cons and pros of each model I believe that a this particular company should invest and use a machine learning based recommender such as Matrix Factorization with SVD because in their case their data lacks helpful features about the users (age, country, nationality) and movies (actors, producer, etc) which could greatly improve the recommender and in addition would have opened new ways into developing even better recommenders (Content-Based for example). Of course we also need to take into account about their future plans about the platform in which the model would be used.*\n",
    "\n",
    "#### Limitations in testing prior to launch:\n",
    "\n",
    "1. Testing is applied on static users which means that the recommender cannot get a direct feedback from the user on if the recommendations were relavent or not. As a result, on deployment the error of the recommendation might be higher.<br>\n",
    "2. Testing on limited amount of data. When testing off-line the model only learns on traits of a small sample of users. As a result, the model minimizes the error by using only the data of that small user sample.<br>\n",
    "3. It does not represent the true human behavior. We humans constantly develop and change. As a result, during offline testing the models fails to learn from this behavior and thus may have higher errors.\n",
    "\n",
    "#### Measurment & Monitoring:\n",
    "\n",
    "**Profit:** *This is one of the most important performance indicators. We need to analyze and understand how successful our new recommender has affected our company at generating a high return.*\n",
    "\n",
    "**Number Of Customers:** *Similar to profit. By determining the number of customers you’ve gained and lost, you can further understand whether or not you are meeting your customers’ expectations.*\n",
    "\n",
    "**Maintenance:** *while creating and developing the model for recommenders is one thing, maintaining and creating the software infrastructure which can support the full operation of the recommender is another. Not only does it take time to create, it is also usually built and maintained by other departments (devOps, machine learning engineers, etc). We need to measure that the costs of maintenance do not e\n",
    "\n",
    "**Customer Satisfaction:** *We can monitor the ratings of users on recommended movies by checking the rating of the recommender system and the real rating of the user and. By doing so we can see how successful is our recommender*\n",
    "\n",
    "**Average Annual Expenses To Serve One Customer:** *This is the average amount needed to serve one customer. Formula: (Total Expenses) / (Total Customers) = (Average Annual Expenses to Serve One Customer).*"
   ]
  },
  {
   "cell_type": "code",
   "execution_count": null,
   "metadata": {},
   "outputs": [],
   "source": []
  }
 ],
 "metadata": {
  "kernelspec": {
   "display_name": "Python 3",
   "language": "python",
   "name": "python3"
  },
  "language_info": {
   "codemirror_mode": {
    "name": "ipython",
    "version": 3
   },
   "file_extension": ".py",
   "mimetype": "text/x-python",
   "name": "python",
   "nbconvert_exporter": "python",
   "pygments_lexer": "ipython3",
   "version": "3.7.6"
  }
 },
 "nbformat": 4,
 "nbformat_minor": 4
}
