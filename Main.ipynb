{
 "cells": [
  {
   "cell_type": "markdown",
   "metadata": {},
   "source": [
    "### Exploritory Data Analysis:\n",
    "\n",
    "**After I have done the basic data clean-up it was time to explore the data using different analytical plots. \n",
    "EDA is very important because it allows me to explore deeper into the dataset and find important quantities, features, and correlations. With the help of these findings not only would I be able to supply my future machine learning models with higher data quality but also, reinforce one's knowledge on the general performance of the product to which the data is related to**"
   ]
  },
  {
   "cell_type": "code",
   "execution_count": 1,
   "metadata": {},
   "outputs": [],
   "source": [
    "import pandas as pd\n",
    "import numpy as np \n",
    "import seaborn as sns\n",
    "import matplotlib.pyplot as plt\n",
    "pd.options.mode.chained_assignment = None  # default='warn'"
   ]
  },
  {
   "cell_type": "code",
   "execution_count": 2,
   "metadata": {},
   "outputs": [],
   "source": [
    "#importing the data\n",
    "movie_metadata = pd.read_csv(\"movies_md.csv\")\n",
    "ratings = pd.read_csv(\"ratings_nw.csv\")"
   ]
  },
  {
   "cell_type": "code",
   "execution_count": 3,
   "metadata": {},
   "outputs": [],
   "source": [
    "#creating copies of the data sets\n",
    "mmd = movie_metadata.copy()\n",
    "rts = ratings.copy()"
   ]
  },
  {
   "cell_type": "code",
   "execution_count": 4,
   "metadata": {},
   "outputs": [],
   "source": [
    "#renaming the 'id' column to 'movieId' for convenience\n",
    "mmd.rename(columns={\"id\": \"movieId\"}, inplace=True)"
   ]
  },
  {
   "cell_type": "code",
   "execution_count": 5,
   "metadata": {},
   "outputs": [],
   "source": [
    "#Merging ratings and movie_metadata data on 'movieId' column \n",
    "movie_data = pd.merge(rts, mmd, on='movieId')"
   ]
  },
  {
   "cell_type": "code",
   "execution_count": 6,
   "metadata": {},
   "outputs": [
    {
     "data": {
      "text/plain": [
       "(11436568, 6)"
      ]
     },
     "execution_count": 6,
     "metadata": {},
     "output_type": "execute_result"
    }
   ],
   "source": [
    "movie_data.shape"
   ]
  },
  {
   "cell_type": "code",
   "execution_count": 7,
   "metadata": {},
   "outputs": [
    {
     "data": {
      "text/html": [
       "<div>\n",
       "<style scoped>\n",
       "    .dataframe tbody tr th:only-of-type {\n",
       "        vertical-align: middle;\n",
       "    }\n",
       "\n",
       "    .dataframe tbody tr th {\n",
       "        vertical-align: top;\n",
       "    }\n",
       "\n",
       "    .dataframe thead th {\n",
       "        text-align: right;\n",
       "    }\n",
       "</style>\n",
       "<table border=\"1\" class=\"dataframe\">\n",
       "  <thead>\n",
       "    <tr style=\"text-align: right;\">\n",
       "      <th></th>\n",
       "      <th>userId</th>\n",
       "      <th>movieId</th>\n",
       "      <th>rating</th>\n",
       "      <th>timestamp</th>\n",
       "      <th>genres</th>\n",
       "      <th>title</th>\n",
       "    </tr>\n",
       "  </thead>\n",
       "  <tbody>\n",
       "    <tr>\n",
       "      <th>0</th>\n",
       "      <td>1</td>\n",
       "      <td>110</td>\n",
       "      <td>1.0</td>\n",
       "      <td>1425941529</td>\n",
       "      <td>['Drama', 'Mystery', 'Romance']</td>\n",
       "      <td>Three Colors: Red</td>\n",
       "    </tr>\n",
       "    <tr>\n",
       "      <th>1</th>\n",
       "      <td>11</td>\n",
       "      <td>110</td>\n",
       "      <td>3.5</td>\n",
       "      <td>1231676989</td>\n",
       "      <td>['Drama', 'Mystery', 'Romance']</td>\n",
       "      <td>Three Colors: Red</td>\n",
       "    </tr>\n",
       "    <tr>\n",
       "      <th>2</th>\n",
       "      <td>22</td>\n",
       "      <td>110</td>\n",
       "      <td>5.0</td>\n",
       "      <td>1111937009</td>\n",
       "      <td>['Drama', 'Mystery', 'Romance']</td>\n",
       "      <td>Three Colors: Red</td>\n",
       "    </tr>\n",
       "    <tr>\n",
       "      <th>3</th>\n",
       "      <td>24</td>\n",
       "      <td>110</td>\n",
       "      <td>5.0</td>\n",
       "      <td>979870012</td>\n",
       "      <td>['Drama', 'Mystery', 'Romance']</td>\n",
       "      <td>Three Colors: Red</td>\n",
       "    </tr>\n",
       "    <tr>\n",
       "      <th>4</th>\n",
       "      <td>29</td>\n",
       "      <td>110</td>\n",
       "      <td>3.0</td>\n",
       "      <td>1044020005</td>\n",
       "      <td>['Drama', 'Mystery', 'Romance']</td>\n",
       "      <td>Three Colors: Red</td>\n",
       "    </tr>\n",
       "  </tbody>\n",
       "</table>\n",
       "</div>"
      ],
      "text/plain": [
       "   userId  movieId  rating   timestamp                           genres  \\\n",
       "0       1      110     1.0  1425941529  ['Drama', 'Mystery', 'Romance']   \n",
       "1      11      110     3.5  1231676989  ['Drama', 'Mystery', 'Romance']   \n",
       "2      22      110     5.0  1111937009  ['Drama', 'Mystery', 'Romance']   \n",
       "3      24      110     5.0   979870012  ['Drama', 'Mystery', 'Romance']   \n",
       "4      29      110     3.0  1044020005  ['Drama', 'Mystery', 'Romance']   \n",
       "\n",
       "               title  \n",
       "0  Three Colors: Red  \n",
       "1  Three Colors: Red  \n",
       "2  Three Colors: Red  \n",
       "3  Three Colors: Red  \n",
       "4  Three Colors: Red  "
      ]
     },
     "execution_count": 7,
     "metadata": {},
     "output_type": "execute_result"
    }
   ],
   "source": [
    "movie_data.head()"
   ]
  },
  {
   "cell_type": "code",
   "execution_count": 8,
   "metadata": {},
   "outputs": [
    {
     "name": "stdout",
     "output_type": "stream",
     "text": [
      "Total number of registered users: 270896\n",
      "Total number of active users: 265917\n",
      "Global average rating: 3.53\n",
      "Total amount of movies on the platform: 42277\n",
      "Total amount of movies with atleast 1 vote: 7409\n",
      "Total number of registered votes: 11436568\n",
      "Maximum votes given by a user 3593\n",
      "Minimum votes given by a user 1\n"
     ]
    }
   ],
   "source": [
    "# Basic Analysis \n",
    "T = len(rts['userId'].unique()) # Total number of registered users\n",
    "TA = len(movie_data['userId'].unique()) # Total number of active users\n",
    "C = movie_data['rating'].mean() # Global average rating   \n",
    "AM = len(mmd['title'].unique()) # Total amount of movies on the platform\n",
    "WAM = len(movie_data['title'].unique()) # Amount of movies watched atleast by 1 user (has atleast 1 vote)\n",
    "TV = movie_data['userId'].count() # Total number of votes \n",
    "MGR1 = movie_data.groupby('userId')['rating'].count().max() # Maximum votes given by a user\n",
    "MGR2 = movie_data.groupby('userId')['rating'].count().min() # Minimum votes given by a user\n",
    "\n",
    "print(\"Total number of registered users: {}\".format(T))\n",
    "print(\"Total number of active users: {}\".format(TA))\n",
    "print(\"Global average rating: {:.2f}\".format(C))\n",
    "print(\"Total amount of movies on the platform: {}\".format(AM))\n",
    "print(\"Total amount of movies with atleast 1 vote: {}\".format(WAM))\n",
    "print(\"Total number of registered votes: {}\".format(TV))\n",
    "print(\"Maximum votes given by a user {}\".format(MGR1))\n",
    "print(\"Minimum votes given by a user {}\".format(MGR2))"
   ]
  },
  {
   "cell_type": "markdown",
   "metadata": {},
   "source": [
    "#### Insights:\n",
    "**1.** There are 4979 users that did not vote<br>\n",
    "**2.** The overall movie quality is above average and/or users are pretty generous when it comes to rating<br>\n",
    "**3.** Each active user voted 40 times on average<br>\n",
    "**4.** Only 17% of movies on the platform have atleast 1 vote"
   ]
  },
  {
   "cell_type": "code",
   "execution_count": 9,
   "metadata": {},
   "outputs": [
    {
     "data": {
      "text/html": [
       "<div>\n",
       "<style scoped>\n",
       "    .dataframe tbody tr th:only-of-type {\n",
       "        vertical-align: middle;\n",
       "    }\n",
       "\n",
       "    .dataframe tbody tr th {\n",
       "        vertical-align: top;\n",
       "    }\n",
       "\n",
       "    .dataframe thead th {\n",
       "        text-align: right;\n",
       "    }\n",
       "</style>\n",
       "<table border=\"1\" class=\"dataframe\">\n",
       "  <thead>\n",
       "    <tr style=\"text-align: right;\">\n",
       "      <th></th>\n",
       "      <th>title</th>\n",
       "      <th>rating</th>\n",
       "      <th>number_of_votes</th>\n",
       "    </tr>\n",
       "  </thead>\n",
       "  <tbody>\n",
       "    <tr>\n",
       "      <th>0</th>\n",
       "      <td>!Women Art Revolution</td>\n",
       "      <td>2.802945</td>\n",
       "      <td>883</td>\n",
       "    </tr>\n",
       "    <tr>\n",
       "      <th>1</th>\n",
       "      <td>$1,000 on the Black</td>\n",
       "      <td>3.000000</td>\n",
       "      <td>1</td>\n",
       "    </tr>\n",
       "    <tr>\n",
       "      <th>2</th>\n",
       "      <td>$5 a Day</td>\n",
       "      <td>2.246795</td>\n",
       "      <td>156</td>\n",
       "    </tr>\n",
       "    <tr>\n",
       "      <th>3</th>\n",
       "      <td>'Gator Bait</td>\n",
       "      <td>3.443590</td>\n",
       "      <td>195</td>\n",
       "    </tr>\n",
       "    <tr>\n",
       "      <th>4</th>\n",
       "      <td>'R Xmas</td>\n",
       "      <td>2.627907</td>\n",
       "      <td>86</td>\n",
       "    </tr>\n",
       "  </tbody>\n",
       "</table>\n",
       "</div>"
      ],
      "text/plain": [
       "                   title    rating  number_of_votes\n",
       "0  !Women Art Revolution  2.802945              883\n",
       "1    $1,000 on the Black  3.000000                1\n",
       "2               $5 a Day  2.246795              156\n",
       "3            'Gator Bait  3.443590              195\n",
       "4                'R Xmas  2.627907               86"
      ]
     },
     "execution_count": 9,
     "metadata": {},
     "output_type": "execute_result"
    }
   ],
   "source": [
    "# Advanced Analysis \n",
    "# creating a new dataframe which consists of movie titles, average rating for the movie and total number of votes for the movie\n",
    "ratings_avg_count = pd.DataFrame(movie_data.groupby('title')['rating'].mean())\n",
    "ratings_avg_count['number_of_votes'] = pd.DataFrame(movie_data.groupby('title')['rating'].count())\n",
    "ratings_avg_count.reset_index(inplace=True)\n",
    "ratings_avg_count.head()"
   ]
  },
  {
   "cell_type": "code",
   "execution_count": 10,
   "metadata": {},
   "outputs": [
    {
     "data": {
      "image/png": "[encoded data removed]",
      "text/plain": [
       "<Figure size 1152x432 with 1 Axes>"
      ]
     },
     "metadata": {
      "needs_background": "light"
     },
     "output_type": "display_data"
    }
   ],
   "source": [
    "plt.figure(figsize=(16,6))\n",
    "plt.rcParams['patch.force_edgecolor'] = True\n",
    "ratings_avg_count['number_of_votes'].hist(bins=50)\n",
    "plt.title(\"Number of votes distribution\")\n",
    "plt.show()"
   ]
  },
  {
   "cell_type": "markdown",
   "metadata": {},
   "source": [
    "**Most of the movies on the platform have around 50 votes**"
   ]
  },
  {
   "cell_type": "code",
   "execution_count": 11,
   "metadata": {},
   "outputs": [
    {
     "data": {
      "image/png": "[encoded data removed]",
      "text/plain": [
       "<Figure size 864x576 with 1 Axes>"
      ]
     },
     "metadata": {
      "needs_background": "light"
     },
     "output_type": "display_data"
    }
   ],
   "source": [
    "plt.figure(figsize=(12,8))\n",
    "sns.regplot(x='rating', y='number_of_votes',data=ratings_avg_count, line_kws={\"color\":\"r\",\"alpha\":0.7,\"lw\":5})\n",
    "plt.title(\"Number of votes and rating relationship\")\n",
    "plt.show()"
   ]
  },
  {
   "cell_type": "markdown",
   "metadata": {},
   "source": [
    "**There is a slight positive correlation between the average rating of a movie and the number of votes. According to the graph:<br> 1. Movies with higher average ratings actually have more number of ratings.**<br>\n",
    "**2. If a movie gets more number of votes, the average rating would increase slightly**"
   ]
  },
  {
   "cell_type": "code",
   "execution_count": 12,
   "metadata": {},
   "outputs": [
    {
     "data": {
      "image/png": "[encoded data removed]",
      "text/plain": [
       "<Figure size 1080x576 with 1 Axes>"
      ]
     },
     "metadata": {
      "needs_background": "light"
     },
     "output_type": "display_data"
    }
   ],
   "source": [
    "plt.figure(figsize=(15,8))\n",
    "plt.rcParams['patch.force_edgecolor'] = True\n",
    "sns.histplot(data=ratings_avg_count, x=\"rating\",bins=50, kde=True)\n",
    "plt.title(\"Distribution of rating\")\n",
    "plt.show()"
   ]
  },
  {
   "cell_type": "markdown",
   "metadata": {},
   "source": [
    "**According to the graph the data has a weak normal distribution with the mean around 3.5 due to the presence of outliers in the data. In addition, values of format x and x.5 (where x is a number between 0 - 5) are assigned by users much more often than other float values**"
   ]
  },
  {
   "cell_type": "markdown",
   "metadata": {},
   "source": [
    "## Creating a Top 10 Movie List <a id='metric'></a>\n",
    "\n",
    "**In order to create a top 10 movie list I will use IMDb's formula for computing the movie's weighted rate and use it as the movie's score.** <br>\n",
    "\n",
    "### Why IMDb's Formula?\n",
    "\n",
    "\n",
    "\n",
    "### The Formula:\n",
    "\n",
    "**WR = (v/(v+m)) * R + (m/(v+m)) * C** \n",
    "\n",
    "*Where:*\n",
    "\n",
    "**R** = Average for the movie as a number from 0.5 - 5<br>\n",
    "**v** = Number of votes for the movie<br>\n",
    "**m** = Minimum votes required to be listed in the top 250 (according to imdb: 25,000)<br>\n",
    "**C** = The mean vote across the whole report \n",
    "\n",
    "### Finding  m for MovieLens platform:\n",
    "\n",
    "**I cannot use the m value of IMDb because:**<br>\n",
    "1. It is a threshold for top 250 movies. <br>\n",
    "2. IMDb has 83 million users while while the platform has 270,000.<br>\n",
    "\n",
    "**As a result, I need to scale it to be suitable for the amount of users which are on the MovieLens platform.**\n",
    "\n",
    "**1.** Find the ratio between total number of users on IMDb (Tu1) and (m1): 83,000,000 : 25,000 --> [3320 : 1].<br> \n",
    "**2.** Find the ratio between total number of users on the platform (Tu2) and (m2) : m2 : 270,896. <br>\n",
    "**3.** Compare both ratios and solve the equation for m2: 3320 * m2 = 270,896 * 1 --> **m2 = 82**. <br>\n",
    "\n",
    "**Now that I have the minimum votes required to be listed in the top 250 in the MovieLens platform I can calculate the weighted rate for each movie, create the a list of top 250 by filtering all the movies which have less than 82 votes and lastly from that list creating another list of Top 10 movies**\n",
    "\n",
    "### Calculation"
   ]
  },
  {
   "cell_type": "code",
   "execution_count": 13,
   "metadata": {},
   "outputs": [],
   "source": [
    "#Creating m, C \n",
    "m = 82\n",
    "C = 3.53\n",
    "\n",
    "#I filter the movies with less than 82 votes\n",
    "filtered_movies = ratings_avg_count.loc[ratings_avg_count['number_of_votes'] >= m]\n",
    "\n",
    "#creating a function that will compute the rating for each movie\n",
    "def weighted_rate(data, m=m, C=C):\n",
    "    R = data['rating']\n",
    "    v = data['number_of_votes']\n",
    "    wr =  (v/(v+m) * R) + (m/(m+v) * C)\n",
    "    return wr\n",
    "\n",
    "filtered_movies['weighted_rate'] = filtered_movies.apply(weighted_rate, axis=1)\n",
    "filtered_movies = filtered_movies.sort_values('weighted_rate', ascending=False)\n",
    "filtered_movies = filtered_movies.head(250)"
   ]
  },
  {
   "cell_type": "markdown",
   "metadata": {},
   "source": [
    "### Top 10 Movies with adjusted IMDb metric:"
   ]
  },
  {
   "cell_type": "code",
   "execution_count": 14,
   "metadata": {},
   "outputs": [
    {
     "data": {
      "text/html": [
       "<div>\n",
       "<style scoped>\n",
       "    .dataframe tbody tr th:only-of-type {\n",
       "        vertical-align: middle;\n",
       "    }\n",
       "\n",
       "    .dataframe tbody tr th {\n",
       "        vertical-align: top;\n",
       "    }\n",
       "\n",
       "    .dataframe thead th {\n",
       "        text-align: right;\n",
       "    }\n",
       "</style>\n",
       "<table border=\"1\" class=\"dataframe\">\n",
       "  <thead>\n",
       "    <tr style=\"text-align: right;\">\n",
       "      <th></th>\n",
       "      <th>title</th>\n",
       "      <th>rating</th>\n",
       "      <th>number_of_votes</th>\n",
       "      <th>weighted_rate</th>\n",
       "    </tr>\n",
       "  </thead>\n",
       "  <tbody>\n",
       "    <tr>\n",
       "      <th>6107</th>\n",
       "      <td>The Million Dollar Hotel</td>\n",
       "      <td>4.429015</td>\n",
       "      <td>91082</td>\n",
       "      <td>4.428206</td>\n",
       "    </tr>\n",
       "    <tr>\n",
       "      <th>4825</th>\n",
       "      <td>Sleepless in Seattle</td>\n",
       "      <td>4.339811</td>\n",
       "      <td>57070</td>\n",
       "      <td>4.338649</td>\n",
       "    </tr>\n",
       "    <tr>\n",
       "      <th>3930</th>\n",
       "      <td>Once Were Warriors</td>\n",
       "      <td>4.266531</td>\n",
       "      <td>67662</td>\n",
       "      <td>4.265639</td>\n",
       "    </tr>\n",
       "    <tr>\n",
       "      <th>2336</th>\n",
       "      <td>Hard Target</td>\n",
       "      <td>4.255074</td>\n",
       "      <td>13994</td>\n",
       "      <td>4.250850</td>\n",
       "    </tr>\n",
       "    <tr>\n",
       "      <th>3160</th>\n",
       "      <td>License to Wed</td>\n",
       "      <td>4.230716</td>\n",
       "      <td>60024</td>\n",
       "      <td>4.229760</td>\n",
       "    </tr>\n",
       "    <tr>\n",
       "      <th>3669</th>\n",
       "      <td>Murder She Said</td>\n",
       "      <td>4.213030</td>\n",
       "      <td>28280</td>\n",
       "      <td>4.211056</td>\n",
       "    </tr>\n",
       "    <tr>\n",
       "      <th>1321</th>\n",
       "      <td>Cousin, Cousine</td>\n",
       "      <td>4.202589</td>\n",
       "      <td>20855</td>\n",
       "      <td>4.199955</td>\n",
       "    </tr>\n",
       "    <tr>\n",
       "      <th>1451</th>\n",
       "      <td>Dead Man</td>\n",
       "      <td>4.200820</td>\n",
       "      <td>7930</td>\n",
       "      <td>4.193954</td>\n",
       "    </tr>\n",
       "    <tr>\n",
       "      <th>244</th>\n",
       "      <td>A Woman, a Gun and a Noodle Shop</td>\n",
       "      <td>4.199039</td>\n",
       "      <td>8948</td>\n",
       "      <td>4.192963</td>\n",
       "    </tr>\n",
       "    <tr>\n",
       "      <th>6541</th>\n",
       "      <td>The Thomas Crown Affair</td>\n",
       "      <td>4.189107</td>\n",
       "      <td>44324</td>\n",
       "      <td>4.187890</td>\n",
       "    </tr>\n",
       "  </tbody>\n",
       "</table>\n",
       "</div>"
      ],
      "text/plain": [
       "                                 title    rating  number_of_votes  \\\n",
       "6107          The Million Dollar Hotel  4.429015            91082   \n",
       "4825              Sleepless in Seattle  4.339811            57070   \n",
       "3930                Once Were Warriors  4.266531            67662   \n",
       "2336                       Hard Target  4.255074            13994   \n",
       "3160                    License to Wed  4.230716            60024   \n",
       "3669                   Murder She Said  4.213030            28280   \n",
       "1321                   Cousin, Cousine  4.202589            20855   \n",
       "1451                          Dead Man  4.200820             7930   \n",
       "244   A Woman, a Gun and a Noodle Shop  4.199039             8948   \n",
       "6541           The Thomas Crown Affair  4.189107            44324   \n",
       "\n",
       "      weighted_rate  \n",
       "6107       4.428206  \n",
       "4825       4.338649  \n",
       "3930       4.265639  \n",
       "2336       4.250850  \n",
       "3160       4.229760  \n",
       "3669       4.211056  \n",
       "1321       4.199955  \n",
       "1451       4.193954  \n",
       "244        4.192963  \n",
       "6541       4.187890  "
      ]
     },
     "execution_count": 14,
     "metadata": {},
     "output_type": "execute_result"
    }
   ],
   "source": [
    "filtered_movies.head(10)"
   ]
  },
  {
   "cell_type": "markdown",
   "metadata": {},
   "source": [
    "# Machine Learning Model Application Pipline:\n",
    "\n",
    "## 1. Data Preperation & Approach:\n",
    "\n",
    "*Available Data & Features:* **movie_metadata (title, movieId), ratings (userId, movieId, rating, timestamp)**<br>\n",
    "*Used Features:* **title,rating, userId**<br>\n",
    "*Libraries:* **numpy, pandas, sklearn, scikit surprise**<br>\n",
    "*Data Usage:* **100%**\n",
    "\n",
    "**I will be building a Recommender System using Collaborative Filtering. I use Collaborative Filtering because I do not have any available features about the users except their rating and timestamp (which only captures the date of when the vote was placed by a user) and about the movies except their title.**"
   ]
  },
  {
   "cell_type": "code",
   "execution_count": 168,
   "metadata": {},
   "outputs": [],
   "source": [
    "from surprise import SVD, SVDpp \n",
    "from sklearn.model_selection import cross_val_score, train_test_split\n",
    "from sklearn.metrics import precision_score"
   ]
  },
  {
   "cell_type": "markdown",
   "metadata": {},
   "source": [
    "### Sparsity Calculation:\n",
    "\n",
    "**I will calculate the sparsity of the data with the following formula:**<br>\n",
    "\n",
    "*S = 1 - (total_votes(data) / total_#_elements(data))*<br>\n",
    "\n",
    "**Where:** <br>\n",
    "\n",
    "**total_votes(data)** = total number of votes given by the users<br>\n",
    "**total_#_elements** = total number of users * total number of movies<br>\n",
    "\n",
    "**I am calculating the sparisty of the data in order to determine which type of CF approach would be the best fit: Memory-Based, Model-Based, Hybrid-Based**"
   ]
  },
  {
   "cell_type": "code",
   "execution_count": 175,
   "metadata": {},
   "outputs": [
    {
     "name": "stdout",
     "output_type": "stream",
     "text": [
      "99.8%\n"
     ]
    }
   ],
   "source": [
    "#calculating the sparsity of the dataset\n",
    "s = 1 - (rts.groupby('userId')['movieId'].count().sum()/(rts.movieId.unique().size * rts.userId.unique().size))\n",
    "print(\"{:.1f}%\".format(s*100))"
   ]
  },
  {
   "cell_type": "markdown",
   "metadata": {},
   "source": [
    "**I will use the Model-Based approach because it has better performance when data sparsity is an issue. In addition, it deals with the issue of scalability.**"
   ]
  },
  {
   "cell_type": "code",
   "execution_count": null,
   "metadata": {},
   "outputs": [],
   "source": []
  },
  {
   "cell_type": "markdown",
   "metadata": {},
   "source": [
    "\n",
    "## Data Preprocessing\n",
    "\n",
    "**Before applying any machine learning model I will do the following steps:**\n",
    "\n",
    "**Split the data into training and testing sets.**<br>\n",
    "**Normalize the data.**<br>\n",
    "\n",
    "**I split the data to train and test sets before applying normalization in order to avoid data leakage and normalize the data in-order to reduce the influence of outliers and help the models to converge faster. In my case the outliers are users that always give high ratings (the optimists) and users that always give low ratings (the pessimists)**"
   ]
  },
  {
   "cell_type": "code",
   "execution_count": null,
   "metadata": {},
   "outputs": [],
   "source": []
  },
  {
   "cell_type": "code",
   "execution_count": null,
   "metadata": {},
   "outputs": [],
   "source": []
  },
  {
   "cell_type": "code",
   "execution_count": null,
   "metadata": {},
   "outputs": [],
   "source": [
    "#data = Dataset.load_from_df(ratings[['userId', 'movieId', 'rating']], reader)\n",
    "#data.split(n_folds=5)"
   ]
  },
  {
   "cell_type": "code",
   "execution_count": null,
   "metadata": {},
   "outputs": [],
   "source": [
    "\"\"\"\n",
    "svd = SVD()\n",
    "mask = data.isna()\n",
    "for ui, mi in data[mask]:\n",
    "    pred_val = svd.predict(uid = ui, iid = mi)\n",
    "    data[ui, mi] = pred_val\n",
    "\"\"\""
   ]
  },
  {
   "cell_type": "code",
   "execution_count": null,
   "metadata": {},
   "outputs": [],
   "source": []
  },
  {
   "cell_type": "code",
   "execution_count": 188,
   "metadata": {},
   "outputs": [
    {
     "data": {
      "text/plain": [
       "265917"
      ]
     },
     "execution_count": 188,
     "metadata": {},
     "output_type": "execute_result"
    }
   ],
   "source": [
    "len(movie_data['userId'].unique())"
   ]
  },
  {
   "cell_type": "markdown",
   "metadata": {},
   "source": []
  },
  {
   "cell_type": "code",
   "execution_count": 185,
   "metadata": {},
   "outputs": [
    {
     "data": {
      "text/plain": [
       "45430"
      ]
     },
     "execution_count": 185,
     "metadata": {},
     "output_type": "execute_result"
    }
   ],
   "source": [
    "len(mmd['movieId'].unique())"
   ]
  },
  {
   "cell_type": "code",
   "execution_count": null,
   "metadata": {},
   "outputs": [],
   "source": []
  },
  {
   "cell_type": "code",
   "execution_count": null,
   "metadata": {},
   "outputs": [],
   "source": []
  },
  {
   "cell_type": "code",
   "execution_count": null,
   "metadata": {},
   "outputs": [],
   "source": []
  },
  {
   "cell_type": "code",
   "execution_count": null,
   "metadata": {},
   "outputs": [],
   "source": []
  },
  {
   "cell_type": "code",
   "execution_count": null,
   "metadata": {},
   "outputs": [],
   "source": []
  },
  {
   "cell_type": "code",
   "execution_count": null,
   "metadata": {},
   "outputs": [],
   "source": []
  },
  {
   "cell_type": "code",
   "execution_count": null,
   "metadata": {},
   "outputs": [],
   "source": []
  },
  {
   "cell_type": "code",
   "execution_count": null,
   "metadata": {},
   "outputs": [],
   "source": []
  },
  {
   "cell_type": "code",
   "execution_count": null,
   "metadata": {},
   "outputs": [],
   "source": []
  },
  {
   "cell_type": "code",
   "execution_count": null,
   "metadata": {},
   "outputs": [],
   "source": []
  }
 ],
 "metadata": {
  "kernelspec": {
   "display_name": "Python 3",
   "language": "python",
   "name": "python3"
  },
  "language_info": {
   "codemirror_mode": {
    "name": "ipython",
    "version": 3
   },
   "file_extension": ".py",
   "mimetype": "text/x-python",
   "name": "python",
   "nbconvert_exporter": "python",
   "pygments_lexer": "ipython3",
   "version": "3.7.6"
  }
 },
 "nbformat": 4,
 "nbformat_minor": 4
}
